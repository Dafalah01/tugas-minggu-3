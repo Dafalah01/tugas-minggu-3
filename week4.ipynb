{
  "cells": [
    {
      "cell_type": "code",
      "source": [
        "umur = #masukkan umur\n",
        "\n",
        "if umur >= 17:\n",
        "    print(\"boleh membuat SIM\")\n",
        "else:\n",
        "    print(\"Tidak Boleh membuat SIM\")\n",
        "\n",
        "print(\"selesai.\")\n"
      ],
      "metadata": {
        "id": "lDUEdzd9vbvA"
      },
      "execution_count": null,
      "outputs": []
    },
    {
      "cell_type": "code",
      "source": [
        "nilai = #masukkan nilai anda\n",
        "\n",
        "if nilai >= 90:\n",
        "    grade = 'A'\n",
        "elif nilai >= 80:\n",
        "    grade = 'B+'\n",
        "elif nilai >= 70:\n",
        "    grade = 'B'\n",
        "elif nilai >= 60:\n",
        "    grade = 'C+'\n",
        "elif nilai >= 50:\n",
        "    grade = 'C'\n",
        "elif nilai >= 40:\n",
        "    grade = 'D'\n",
        "else:\n",
        "    grade = 'E'\n",
        "\n",
        "print(f'Graden = \"{grade}\"')\n"
      ],
      "metadata": {
        "id": "qgI10NsG0CoL"
      },
      "execution_count": null,
      "outputs": []
    },
    {
      "cell_type": "code",
      "execution_count": null,
      "metadata": {
        "id": "zwFnJsE6vjf8",
        "colab": {
          "base_uri": "https://localhost:8080/",
          "height": 106
        },
        "outputId": "cf83c774-58ed-41ac-fecd-04ebdc76765e"
      },
      "outputs": [
        {
          "output_type": "error",
          "ename": "SyntaxError",
          "evalue": "invalid syntax (<ipython-input-1-7aa285bf9df0>, line 1)",
          "traceback": [
            "\u001b[0;36m  File \u001b[0;32m\"<ipython-input-1-7aa285bf9df0>\"\u001b[0;36m, line \u001b[0;32m1\u001b[0m\n\u001b[0;31m    nilai = #masukkan nilai anda\u001b[0m\n\u001b[0m            ^\u001b[0m\n\u001b[0;31mSyntaxError\u001b[0m\u001b[0;31m:\u001b[0m invalid syntax\n"
          ]
        }
      ],
      "source": [
        "nilai = #masukkan nilai anda\n",
        "\n",
        "if 80 <= nilai <= 100:\n",
        "    grade = 'A'\n",
        "elif 77.50 <= nilai <= 79.99:\n",
        "    grade = 'A-'\n",
        "elif 75 <= nilai <= 77.49:\n",
        "    grade = 'A/B'\n",
        "elif 72.50 <= nilai <= 74.99:\n",
        "    grade = 'B+'\n",
        "elif 70 <= nilai <= 72.49:\n",
        "    grade = 'B'\n",
        "elif 67.50 <= nilai <= 69.99:\n",
        "    grade = 'B-'\n",
        "elif 65 <= nilai <= 67.49:\n",
        "    grade = 'B/C'\n",
        "elif 62.50 <= nilai <= 64.99:\n",
        "    grade = 'C+'\n",
        "elif 60 <= nilai <= 62.49:\n",
        "    grade = 'C'\n",
        "elif 55 <= nilai <= 59.99:\n",
        "    grade = 'C-'\n",
        "elif 50 <= nilai <= 54.99:\n",
        "    grade = 'C/D'\n",
        "elif 45 <= nilai <= 49.99:\n",
        "    grade = 'D+'\n",
        "elif 40 <= nilai <= 44.99:\n",
        "    grade = 'D'\n",
        "else:\n",
        "    grade = 'E'\n",
        "\n",
        "print(f'Graden = \"{grade}\"')\n"
      ]
    }
  ],
  "metadata": {
    "colab": {
      "provenance": []
    },
    "kernelspec": {
      "display_name": "Python 3",
      "name": "python3"
    }
  },
  "nbformat": 4,
  "nbformat_minor": 0
}